{
  "nbformat": 4,
  "nbformat_minor": 0,
  "metadata": {
    "colab": {
      "provenance": [],
      "authorship_tag": "ABX9TyOYWgqB/A1x5PiyS7aDu+sf",
      "include_colab_link": true
    },
    "kernelspec": {
      "name": "python3",
      "display_name": "Python 3"
    },
    "language_info": {
      "name": "python"
    }
  },
  "cells": [
    {
      "cell_type": "markdown",
      "metadata": {
        "id": "view-in-github",
        "colab_type": "text"
      },
      "source": [
        "<a href=\"https://colab.research.google.com/github/gichurejoy/DSA/blob/main/bst.ipynb\" target=\"_parent\"><img src=\"https://colab.research.google.com/assets/colab-badge.svg\" alt=\"Open In Colab\"/></a>"
      ]
    },
    {
      "cell_type": "code",
      "execution_count": 1,
      "metadata": {
        "colab": {
          "base_uri": "https://localhost:8080/"
        },
        "id": "v6jw5t8zlQ6k",
        "outputId": "cd53464a-4526-40c9-82b0-f8e2229fd83f"
      },
      "outputs": [
        {
          "output_type": "stream",
          "name": "stdout",
          "text": [
            "False\n"
          ]
        }
      ],
      "source": [
        "class Tree(object):\n",
        "    def __init__(self, x):\n",
        "        self.value = x\n",
        "        self.left = None\n",
        "        self.right = None\n",
        "\n",
        "def isBST(node, min_val=float('-inf'), max_val=float('inf')):\n",
        "    if node is None:\n",
        "        return True\n",
        "\n",
        "    if not (min_val < node.value < max_val):\n",
        "        return False\n",
        "\n",
        "    return (isBST(node.left, min_val, node.value) and\n",
        "            isBST(node.right, node.value, max_val))\n",
        "\n",
        "def solution(t):\n",
        "    return isBST(t)\n",
        "\n",
        "# Create the binary tree\n",
        "t = Tree(-1)\n",
        "t.left = Tree(-2)\n",
        "t.right = Tree(-3)\n",
        "\n",
        "# Check if it's a BST\n",
        "result = solution(t)\n",
        "print(result)\n"
      ]
    },
    {
      "cell_type": "code",
      "source": [
        "class TreeNode:\n",
        "    def __init__(self, value, left=None, right=None):\n",
        "        self.value = value\n",
        "        self.left = left\n",
        "        self.right = right\n",
        "\n",
        "def isBST(node, min_val=float('-inf'), max_val=float('inf')):\n",
        "    if node is None:\n",
        "        return True\n",
        "\n",
        "    if not (min_val < node.value < max_val):\n",
        "        return False\n",
        "\n",
        "    return (isBST(node.left, min_val, node.value) and\n",
        "            isBST(node.right, node.value, max_val))\n",
        "\n",
        "# Given binary tree\n",
        "t = TreeNode(-1)\n",
        "t.left = TreeNode(-2)\n",
        "t.right = TreeNode(-3)\n",
        "\n",
        "# Check if it's a BST\n",
        "result = isBST(t)\n",
        "print(result)\n"
      ],
      "metadata": {
        "colab": {
          "base_uri": "https://localhost:8080/"
        },
        "id": "GaMugHTdlhGm",
        "outputId": "1be99a04-7bbd-4aa9-fb3f-b7cef177f3c9"
      },
      "execution_count": 2,
      "outputs": [
        {
          "output_type": "stream",
          "name": "stdout",
          "text": [
            "False\n"
          ]
        }
      ]
    }
  ]
}